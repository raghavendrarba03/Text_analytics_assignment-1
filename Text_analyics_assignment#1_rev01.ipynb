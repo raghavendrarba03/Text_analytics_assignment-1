{
 "cells": [
  {
   "cell_type": "code",
   "execution_count": 144,
   "metadata": {},
   "outputs": [],
   "source": [
    "import re, string, unicodedata\n",
    "import nltk\n",
    "from bs4 import BeautifulSoup\n",
    "from nltk import word_tokenize, sent_tokenize\n",
    "from nltk.corpus import stopwords\n",
    "from nltk.stem import LancasterStemmer, WordNetLemmatizer"
   ]
  },
  {
   "cell_type": "code",
   "execution_count": 145,
   "metadata": {},
   "outputs": [],
   "source": [
    "import requests\n",
    "\n",
    "from bs4 import BeautifulSoup\n",
    "\n",
    "#import text from Times of India website for article based on Budget 2019.\n",
    "speech=requests.get(\"https://graphics.straitstimes.com/STI/STIMEDIA/Interactives/2018/08/ndr-speech-analysis-2018/\")\n",
    "soup2 = BeautifulSoup(speech.text, 'html.parser')"
   ]
  },
  {
   "cell_type": "code",
   "execution_count": 146,
   "metadata": {},
   "outputs": [
    {
     "data": {
      "text/plain": [
       "200"
      ]
     },
     "execution_count": 146,
     "metadata": {},
     "output_type": "execute_result"
    }
   ],
   "source": [
    "speech.status_code"
   ]
  },
  {
   "cell_type": "code",
   "execution_count": 147,
   "metadata": {},
   "outputs": [
    {
     "name": "stdout",
     "output_type": "stream",
     "text": [
      "<!DOCTYPE html>\n",
      " <html lang=\"en\"> <head> <meta charset=\"utf-8\"/> <title>National Day Rally 2018: Explore PM Leeâs transcript | The Straits Times</title> <meta content=\"National Day Rally 2018: Explore PM Leeâs transcript\" name=\"title\"/> <meta content=\"Prime Minister Lee Hsien Loong delivered the 2018 National Day Rally speech on Aug 19. What were the hot topics and most-used words? Find out with this speech analysis.\" name=\"description\"/> <meta content=\"IE=edge\" http-equiv=\"X-UA-Compatible\"/> <meta content=\"True\" name=\"HandheldFriendly\"> <meta content=\"yes\" name=\"apple-mobile-web-app-capable\"/> <meta content=\"width=device-width,initial-scale=1,maximum-scale=1,user-scalable=no\" name=\"viewport\"/> <meta content=\"ST\" name=\"apple-mobile-web-app-title\"> <meta content=\"The Straits Times\" name=\"application-name\"> <meta content=\"#0c2b57\" name=\"msapplication-TileColor\"> <meta content=\"#0c2b57\" name=\"theme-color\"/> <meta content=\"Singapore news\" property=\"article:section\"> <meta content=\"National Day Rally 2018: Explore PM Leeâs transcript\" property=\"og:title\"> <meta content=\"The Straits Times\" property=\"og:site_name\"> <meta content=\"What were the hot topics and most-used words in PM Lee Hsien Loongâs National Day Rally 2018 speech? Get the answers with our speech analysis.\" property=\"og:description\"/> <meta content=\"article\" property=\"og:type\"/> <meta content=\"https://graphics.straitstimes.com/STI/STIMEDIA/facebook_images/ndr-speech-analysis-2018/ndr-speech-analysis-2018.png\" property=\"og:image\"/> <meta content=\"https://graphics.straitstimes.com/STI/STIMEDIA/Interactives/2018/08/ndr-speech-analysis-2018\" property=\"og:url\"/> <meta content=\"748050775275737\" property=\"fb:app_id\"/> <meta content=\"http://www.straitstimes.com/authors/rebecca-pazos\" property=\"article:author\"/> <meta content=\"https://www.facebook.com/TheStraitsTimes\" property=\"article:publisher\"/> <meta content=\"NATIONAL DAY RALLY 2018; NATIONAL DAY RALLY; LEE HSIEN LOONG; HDB; HOUSING; MINISTRY OR HEALTH; HEALTHCARE; COST OF LIVING; SINGAPORE ECONOMY\" property=\"article:tag\"/> <meta content=\"NATIONAL DAY RALLY 2018; NATIONAL DAY RALLY; LEE HSIEN LOONG; HDB; HOUSING; MINISTRY OR HEALTH; HEALTHCARE; COST OF LIVING; SINGAPORE ECONOMY\" name=\"news_keywords\"/> <meta content=\"The Straits Times for iPhone\" name=\"twitter:app:name:iphone\"/> <meta content=\"summary_large_image\" name=\"twitter:card\"/> <meta content=\"@STcom\" name=\"twitter:site\"/> <meta content=\"National Day Rally 2018: Explore PM Leeâs transcript\" name=\"twitter:title\"/> <meta content=\"What were the hot topics and most-used words in PM Lee Hsien Loongâs #ndrsg speech? Get the answers with our speech analysis #ndr2018 #stvisuals via @STcom http://str.sg/ndr-2018-analysis\" name=\"twitter:description\"/> <meta content=\"https://graphics.straitstimes.com/STI/STIMEDIA/facebook_images/ndr-speech-analysis-2018/ndr-speech-analysis-2018.png\" name=\"twitter:image\"/> <script data-schema=\"Organization\" type=\"application/ld+json\"> {\n",
      "        \"name\": \"The Straits Times\",\n",
      "        \"url\": \"http://www.straitstimes.com/\",\n",
      "        \"logo\": \"https://graphics.straitstimes.com/STI/STIMEDIA/Interactives/commons/favicon/touch-icon-ipad-retina.png\",\n",
      "        \"sameAs\": [\"https://www.facebook.com/TheStraitsTimes\", \"https://twitter.com/STcom\",\n",
      "          \"https://www.youtube.com/user/StraitsTimesOnline\"\n",
      "        ],\n",
      "        \"@type\": \"Organization\",\n",
      "        \"@context\": \"http://schema.org\"\n",
      "      } </script> <link href=\"https://graphics.straitstimes.com/STI/STIMEDIA/Interactives/commons/favicon/touch-icon-iphone.png\" rel=\"apple-touch-icon\"/> <link href=\"https://graphics.straitstimes.com/STI/STIMEDIA/Interactives/commons/favicon/touch-icon-ipad.png\" rel=\"apple-touch-icon\" sizes=\"76x76\"/> <link href=\"https://graphics.straitstimes.com/STI/STIMEDIA/Interactives/commons/favicon/touch-icon-iphone-retina.png\" rel=\"apple-touch-icon\" sizes=\"120x120\"/> <link href=\"https://graphics.straitstimes.com/STI/STIMEDIA/Interactives/commons/favicon/touch-icon-ipad-retina.png\" rel=\"apple-touch-icon\" sizes=\"152x152\"/> <link href=\"https://graphics.straitstimes.com/STI/STIMEDIA/Interactives/commons/favicon/touch-icon-ipad-retina2.png\" rel=\"apple-touch-icon\" sizes=\"180x180\"/> <link href=\"https://graphics.straitstimes.com/STI/STIMEDIA/Interactives/commons/favicon/favicon-192x192.png\" rel=\"icon\" sizes=\"192x192\" type=\"image/png\"/> <link href=\"https://graphics.straitstimes.com/STI/STIMEDIA/Interactives/commons/favicon/favicon.png\" rel=\"shortcut icon\" type=\"image/png\"> <link href=\"https://graphics.straitstimes.com/STI/STIMEDIA/Interactives/commons/favicon/favicon.ico\" rel=\"shortcut icon\" type=\"image/x-icon\"> <!--[if lt IE 9]>\n",
      "  <script src=\"http://html5shim.googlecode.com/svn/trunk/html5.js\"></script>\n",
      "  <![endif]--> <link href=\"css/app2.css\" rel=\"stylesheet\" type=\"text/css\"/> <link href=\"css/app.css\" rel=\"stylesheet\" type=\"text/css\"/> <link href=\"css/components.css\" rel=\"stylesheet\" type=\"text/css\"/> <script>var data={level2:\"15\",chapter1:\"\",chapter2:\"\",chapter3:\"\",title:document.title.replace(/&amp;|\\'/gi,\"\"),contenttype:\"1\",contentcat:\"1\"};!function(e,t,a,n,c){e[n]=e[n]||[],e[n].push({\"gtm.start\":(new Date).getTime(),event:\"gtm.js\"});var r=t.getElementsByTagName(a)[0],m=t.createElement(a);m.async=!0,m.src=\"https://www.googletagmanager.com/gtm.js?id=GTM-W22QHZ9\",r.parentNode.insertBefore(m,r)}(window,document,\"script\",\"dataLayer\")</script> </link></link></meta></meta></meta></meta></meta></meta></meta></head> <body itemscope=\"\" itemtype=\"http://schema.org/WebPage\"> <noscript><iframe height=\"0\" src=\"https://www.googletagmanager.com/ns.html?id=GTM-W22QHZ9\" style=\"display:none;visibility:hidden\" width=\"0\"></iframe></noscript> <div class=\"scrollContainer\" id=\"wrapper-page\"> <div class=\"st-content-graphic scrollContent\" itemscope=\"\" itemtype=\"http://schema.org/NewsArticle\"> <meta content=\"2018-08-21\" itemprop=\"datePublished\"/> <header class=\"st-content-menu\" role=\"banner\"> <nav class=\"st-content-menu-fixed\" role=\"navigation\"> <div class=\"navbar\"> <figure class=\"st-logo\" data-component=\"image\" itemprop=\"associatedMedia image\" itemscope=\"\" itemtype=\"http://schema.org/ImageObject\"> <a href=\"http://www.straitstimes.com/\" target=\"_blank\"> <img alt=\"Straitstimes logo\" class=\"st-image-responsive\" id=\"short_logo\" src=\"data:image/svg+xml;base64,PHN2ZyB4bWxucz0iaHR0cDovL3d3dy53My5vcmcvMjAwMC9zdmciIHdpZHRoPSI5ODAiIGhlaWdodD0iMTAwMCIgdmlld0JveD0iMTU4IDI1MSA5ODAgMTAwMCI+PHBhdGggZmlsbD0iIzBDMkI1NyIgZD0iTTE2MS4xIDQwMS45SDExMzh2Njk1LjJIMTYxLjF6Ii8+PGcgZmlsbD0iI0ZGRiI+PHBhdGggZD0iTTk5Mi4yNjkgNTYzLjYwN0g2MDcuOTgzdjMzLjcwNGwtMS45NTEgNTkuNjA0aDMuOTAxYzI5LjY5NC02Ni42NDggODIuNTc5LTg1LjUwNSAxMjAuNjE3LTg1LjUwNWgxNi4xNDd2MzY5LjExM2MwIDUzLjEwMi0zMC45OTQgNjkuOS00OS42MzQgNzIuNTAxdi4xMDhoMjA1LjAzOXYtLjEwOGMtMjAuNTkxLTIuNjAxLTQ4LjMzNC0xOS4zOTktNDguMzM0LTcyLjUwMVY1NzEuMzAxaDE2LjE0N2MzOC4wMzkgMCA5MC45MjQgMTguNzQ4IDEyMC42MTcgODUuNTA1aDMuOTAxbC0xLjk1MS01OS42MDR2LTMzLjU5NWgtLjIxM3oiLz48cGF0aCBkPSJNNjc0LjMwNyA3ODQuMDM0YzAtNjQuNjk4LTM0Ljc4Ny0xMTAuMTA1LTExOS45NjctMTQyLjQtNTcuOTc5LTIxLjk5OS05Mi44NzQtNDcuOS05Mi44NzQtOTkuNzAyIDAtNDkuMjAxIDM5Ljk4OS03OS4wMDMgODUuMDcyLTc5LjAwMyA1Ny40MzcgMCA4OC4zMjMgNDIuMDQ4IDEwNy4wNzEgOTMuODVoMy45MDFsLTEuMy00NS4yOTl2LTQ0Ljc1N2MtMjcuNzQzLTMuOTAxLTYzLjE4MS0xMC40MDQtMTA4LjM3MS0xMC40MDQtOTkuOTE4IDAtMTU5LjUyMyA0NC4yMTYtMTY5LjI3NiAxMTEuODM5djQxLjk0YzguODg2IDYzLjgzMSA1Ny41NDUgOTEuNDY2IDExMC42NDcgMTEzLjY4MiA2Mi41MyAyNS45MDEgOTYuMTI1IDUzLjEwMiA5Ni4xMjUgMTA2Ljg1NCAwIDU3LjAwMy0zNC43ODcgODQuODU1LTg4Ljk3MyA4NC44NTUtNjMuODMxIDAtOTguNjE4LTU1LjcwMy0xMTUuNDE2LTk1LjE1aC0yLjI3NnY5MC4xNjVjMjkuMDQ0IDYuMzk0IDcxLjc0MiAxMi4xMzggMTE5LjY0MiAxMi4xMzggODkuNjIzLS4xMDkgMTc1Ljk5NS00Mi4xNTcgMTc1Ljk5NS0xMzguNjA4eiIvPjwvZz48L3N2Zz4=\" title=\"Straitstimes logo\"/> <img alt=\"Straitstimes logo\" class=\"st-image-responsive\" id=\"long_logo\" src=\"data:image/svg+xml;base64,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\" title=\"Straitstimes logo\"/> </a> </figure> <ul> <li> <a class=\"st_option_menu_desktop\" href=\"https://graphics.straitstimes.com/STI/STIMEDIA/Interactives/2018/08/ndr-2018-bot/index.html\" title=\"NDR CHATBOT\">NDR CHATBOT</a> </li> <li> <a class=\"st_option_menu_desktop\" href=\"https://graphics.straitstimes.com/STI/STIMEDIA/Interactives/2018/08/ndr-2018-live-blog\" title=\"LIVE BLOG\">LIVE BLOG</a> </li> <li> <a class=\"st_option_menu_desktop current\" href=\"#\" title=\"THE SPEECH\">THE SPEECH</a> </li> </ul> <figure class=\"st-social-desktop\" data-component=\"image\" itemprop=\"associatedMedia image\" itemscope=\"\" itemtype=\"http://schema.org/ImageObject\"> <img alt=\"st button facebook\" class=\"st-image-responsive\" src=\"data:image/svg+xml;base64,PHN2ZyB4bWxucz0iaHR0cDovL3d3dy53My5vcmcvMjAwMC9zdmciIHdpZHRoPSI5ODAiIGhlaWdodD0iMTAwMCIgdmlld0JveD0iMCAwIDk4MCAxMDAwIj48Y2lyY2xlIGZpbGw9IiNGRkYiIGN4PSI1MDciIGN5PSI0OTkiIHI9IjM0Ny4xIi8+PHBhdGggZmlsbD0iIzBDMkI1NyIgZD0iTTUyMi43IDY2MC4ydi0xNTBoNTEuNWw5LTU4LjJINTI1di0zNS44YzAtMTUuNyA0LjUtMjkuMSAyOS4xLTI5LjFoMzEuM3YtNTguMmMtNi43IDAtMjQuNi0yLjItNDQuOC0yLjItNDQuOCAwLTc2LjEgMjYuOS03Ni4xIDc4LjR2NDIuNUg0MTN2NTguMmg0OS4zdjE1MGw2MC40IDQuNHoiLz48L3N2Zz4=\" title=\"st button facebook\"/> <img alt=\"st button twitter\" class=\"st-image-responsive\" src=\"data:image/svg+xml;base64,PHN2ZyB4bWxucz0iaHR0cDovL3d3dy53My5vcmcvMjAwMC9zdmciIHdpZHRoPSI5ODAiIGhlaWdodD0iMTAwMCIgdmlld0JveD0iMCAwIDk4MCAxMDAwIj48Y2lyY2xlIGZpbGw9IiNGRkYiIGN4PSI1MDciIGN5PSI0OTkuOCIgcj0iMzUwLjUiLz48cGF0aCBmaWxsPSIjMEMyQjU3IiBkPSJNNjgwLjY4IDM5Ny44OTNjLTExLjMgNi44LTI0LjkgOS0zOC40IDkgMTMuNi05IDI0LjktMjIuNiAyOS40LTM4LjQtMTMuNiA5LTI3LjEgMTMuNi00MyAxNS44LTExLjMtMTMuNi0yOS40LTIyLjYtNDkuNy0yMi42LTM4LjQgMC02Ny44IDI5LjQtNjcuOCA2Ny44IDAgNi44IDAgOSAyLjMgMTUuOC01Ni41LTIuMy0xMDYuMy0yOS40LTEzNy45LTcwLjEtNi44IDktOSAyMi42LTkgMzMuOSAwIDI0LjkgMTEuMyA0MyAyOS40IDU2LjUtMTEuMyAwLTIyLjYtNC41LTI5LjQtOSAwIDMxLjcgMjQuOSA1OC44IDU0LjMgNjUuNi02LjggMi4zLTExLjMgMi4zLTE4LjEgMi4zLTQuNSAwLTkgMC0xMS4zLTIuMyA5IDI0LjkgMzMuOSA0NS4yIDYxLjEgNDUuMi0yNC45IDE4LjEtNTIgMjcuMS04My43IDI3LjFoLTE1LjhjMjkuNCAyMC40IDY1LjYgMjkuNCAxMDQgMjkuNCAxMjQuNCAwIDE5Mi4yLTEwMS44IDE5Mi4yLTE5Mi4ydi05YzEzLjMtMi4yIDI0LjctMTMuNSAzMS40LTI0Ljh6Ii8+PC9zdmc+\" title=\"st button twitter\"/> </figure> </div> </nav> <div class=\"st-mb\"> <div class=\"st-button-menu-mobile\"> <svg enable-background=\"new 0 0 35 35\" height=\"32px\" version=\"1.1\" viewbox=\"0 0 35 35\" width=\"32px\" x=\"0px\" xml:space=\"preserve\" xmlns=\"http://www.w3.org/2000/svg\" xmlns:xlink=\"http://www.w3.org/1999/xlink\" y=\"0px\"> <circle cx=\"18.2\" cy=\"17.6\" fill=\"#0C2B57\" r=\"15.5\" stroke=\"#FFFFFF\" stroke-miterlimit=\"10\"></circle> <line class=\"first_line\" fill=\"none\" stroke=\"#FFFFFF\" stroke-miterlimit=\"10\" stroke-width=\"1.7\" x1=\"10.5\" x2=\"26.1\" y1=\"13.2\" y2=\"13.2\"></line> <line class=\"menu_mobile_line_center\" fill=\"none\" stroke=\"#FFFFFF\" stroke-miterlimit=\"10\" stroke-width=\"1.7\" x1=\"10.5\" x2=\"26.1\" y1=\"17.6\" y2=\"17.6\"></line> <line class=\"second_line\" fill=\"none\" stroke=\"#FFFFFF\" stroke-miterlimit=\"10\" stroke-width=\"1.7\" x1=\"10.5\" x2=\"26.1\" y1=\"21.9\" y2=\"21.9\"></line> </svg> </div> <div class=\"modal-menu-mobile\"> <div class=\"st-content-detail-menu-mobile\"> <div class=\"detail-menu-mobile\"> <div class=\"title-menu-mobile\"> <a href=\"https://graphics.straitstimes.com/STI/STIMEDIA/Interactives/2018/08/ndr-2018-bot/index.html\" title=\"NDR CHATBOT\">NDR CHATBOT</a> </div> <div class=\"transform-border-hairline\"></div> </div> <div class=\"detail-menu-mobile\"> <div class=\"title-menu-mobile\"> <a href=\"https://graphics.straitstimes.com/STI/STIMEDIA/Interactives/2018/08/ndr-2018-live-blog\" title=\"LIVE BLOG\">LIVE BLOG</a> </div> <div class=\"transform-border-hairline\"></div> </div> <div class=\"detail-menu-mobile\"> <div class=\"title-menu-mobile selected-menu\"> <a href=\"#\" title=\"THE SPEECH\">THE SPEECH</a> </div> <div class=\"transform-border-hairline\"></div> </div> </div> <div class=\"st-content-shared-social\"> <figure class=\"st-social-mobile\" data-component=\"image\" itemprop=\"associatedMedia image\" itemscope=\"\" itemtype=\"http://schema.org/ImageObject\"> <img alt=\"st button facebook\" class=\"st-image-responsive\" src=\"data:image/svg+xml;base64,PHN2ZyB4bWxucz0iaHR0cDovL3d3dy53My5vcmcvMjAwMC9zdmciIHdpZHRoPSI5ODAiIGhlaWdodD0iMTAwMCIgdmlld0JveD0iMCAwIDk4MCAxMDAwIj48Y2lyY2xlIGZpbGw9IiNGRkYiIGN4PSI1MDciIGN5PSI0OTkiIHI9IjM0Ny4xIi8+PHBhdGggZmlsbD0iIzBDMkI1NyIgZD0iTTUyMi43IDY2MC4ydi0xNTBoNTEuNWw5LTU4LjJINTI1di0zNS44YzAtMTUuNyA0LjUtMjkuMSAyOS4xLTI5LjFoMzEuM3YtNTguMmMtNi43IDAtMjQuNi0yLjItNDQuOC0yLjItNDQuOCAwLTc2LjEgMjYuOS03Ni4xIDc4LjR2NDIuNUg0MTN2NTguMmg0OS4zdjE1MGw2MC40IDQuNHoiLz48L3N2Zz4=\" title=\"st button facebook\"/> <img alt=\"st button twitter\" class=\"st-image-responsive\" src=\"data:image/svg+xml;base64,PHN2ZyB4bWxucz0iaHR0cDovL3d3dy53My5vcmcvMjAwMC9zdmciIHdpZHRoPSI5ODAiIGhlaWdodD0iMTAwMCIgdmlld0JveD0iMCAwIDk4MCAxMDAwIj48Y2lyY2xlIGZpbGw9IiNGRkYiIGN4PSI1MDciIGN5PSI0OTkuOCIgcj0iMzUwLjUiLz48cGF0aCBmaWxsPSIjMEMyQjU3IiBkPSJNNjgwLjY4IDM5Ny44OTNjLTExLjMgNi44LTI0LjkgOS0zOC40IDkgMTMuNi05IDI0LjktMjIuNiAyOS40LTM4LjQtMTMuNiA5LTI3LjEgMTMuNi00MyAxNS44LTExLjMtMTMuNi0yOS40LTIyLjYtNDkuNy0yMi42LTM4LjQgMC02Ny44IDI5LjQtNjcuOCA2Ny44IDAgNi44IDAgOSAyLjMgMTUuOC01Ni41LTIuMy0xMDYuMy0yOS40LTEzNy45LTcwLjEtNi44IDktOSAyMi42LTkgMzMuOSAwIDI0LjkgMTEuMyA0MyAyOS40IDU2LjUtMTEuMyAwLTIyLjYtNC41LTI5LjQtOSAwIDMxLjcgMjQuOSA1OC44IDU0LjMgNjUuNi02LjggMi4zLTExLjMgMi4zLTE4LjEgMi4zLTQuNSAwLTkgMC0xMS4zLTIuMyA5IDI0LjkgMzMuOSA0NS4yIDYxLjEgNDUuMi0yNC45IDE4LjEtNTIgMjcuMS04My43IDI3LjFoLTE1LjhjMjkuNCAyMC40IDY1LjYgMjkuNCAxMDQgMjkuNCAxMjQuNCAwIDE5Mi4yLTEwMS44IDE5Mi4yLTE5Mi4ydi05YzEzLjMtMi4yIDI0LjctMTMuNSAzMS40LTI0Ljh6Ii8+PC9zdmc+\" title=\"st button twitter\"/> </figure> </div> </div> </div> </header> <main> <header class=\"st-header-page\"> <div class=\"st-content-banner-bg\" style=\"background:url(images/NDR/ndr-speech-pattern.svg),#0f233f\"> <div class=\"st-content-banner\" style=\"background:url(images/NDR/ndr-pulpit-icon.svg) no-repeat\"> <h1>NDR<span>2018</span></h1> </div> </div> <div class=\"main-headline\"> <div class=\"st-title\"> <h1 itemprop=\"headline\">National Day Rally 2018: Explore PM Leeâs transcript</h1> </div> <div class=\"st-deck\" itemprop=\"description\"> <p> Prime Minister Lee Hsien Loong delivered the 2018 National Day Rally speech on Aug 19. Explore the transcript of his English speech. Search by category, most-used words or enter your own search terms. </p> </div> <div class=\"st-byline\"> <time data-timestamp=\"1534842689\" datetime=\"2018-08-21T09:33:00+00:00\" itemprop=\"datePublished\"> PUBLISHED: AUG 21, 2018 </time> </div> </div> </header> <article> <div class=\"container\"> <div class=\"row div_content_search\"> <div class=\"div_tab_search col-xs-12 col-sm-12 col-md-12 col-lg-12 visible-xs\"> <ul class=\"nav nav-tabs\" id=\"tab_mob\" role=\"tablist\"> <li class=\"active\"><a data-toggle=\"tab\" href=\"#tab_select_words\" role=\"tab\">Top</a> </li> <li><a data-toggle=\"tab\" href=\"#tab_select_category\" role=\"tab\">Category</a> </li> <li><a data-toggle=\"tab\" href=\"#tab_add_words\" role=\"tab\">Free Search</a> </li> </ul> <div class=\"tab-content\"> <div class=\"tab-pane active\" id=\"tab_select_words\"> <select class=\"chosen-select-words\" data-placeholder=\"Most used words\" style=\"width:100%\" tabindex=\"1\"></select> </div> <div class=\"tab-pane\" id=\"tab_select_category\"> <select class=\"chosen-select-categories\" data-placeholder=\"By category\" style=\"width:100%\" tabindex=\"1\"></select> </div> <div class=\"tab-pane\" id=\"tab_add_words\"> <div class=\"input-group\"> <input class=\"col-md-12 form-control input_word_extern\" placeholder=\"Add word or phrase\" style=\"width:100%\" type=\"text\"/> <span class=\"input-group-addon add_word_filter\"><i class=\"glyphicon glyphicon-plus-sign\"></i></span> <span class=\"input-group-addon refresh_display_filter\"><i class=\"glyphicon glyphicon-refresh\"></i></span> </div> </div> </div> </div> <div class=\"div_tab_search col-xs-12 col-sm-12 col-md-12 col-lg-12 hidden-xs\"> <ul class=\"nav nav-tabs\" id=\"tab_desk\" role=\"tablist\"> <li class=\"active\"><a data-toggle=\"tab\" href=\"#div_category_select\" role=\"tab\">SEARCH BY CATEGORY</a> </li> <li><a data-toggle=\"tab\" href=\"#div_words_select\" role=\"tab\">SEARCH BY MOST-USED WORDS</a> </li> <li><a data-toggle=\"tab\" href=\"#tab_add_word\" role=\"tab\">FREE SEARCH</a> </li> </ul> <div class=\"tab-content\"> <div class=\"tab-pane active\" id=\"div_category_select\"> <div class=\"clearfix\" id=\"div_category\"></div> </div> <div class=\"tab-pane\" id=\"div_words_select\"> <div class=\"clearfix\" id=\"div_words\"></div> </div> <div class=\"tab-pane\" id=\"tab_add_word\"> <div class=\"input-group\"> <input class=\"col-md-12 form-control input_word_extern\" placeholder=\"Add word or phrase\" style=\"width:100%\" type=\"text\"/> <span class=\"input-group-addon add_word_filter\"><i class=\"glyphicon glyphicon-plus-sign\"></i></span> <span class=\"input-group-addon refresh_display_filter\"><i class=\"glyphicon glyphicon-refresh\"></i></span> </div> </div> </div> </div> <div> <input class=\"word_searched_hide none\" type=\"text\"/> </div> </div> <div class=\"row list-option-radio visible-xs\"> <div class=\"col-xs-6\"> <div style=\"padding-left:5px\"> <input class=\"rad-speech\" id=\"rad-speechs\" name=\"rad-speech\" type=\"radio\" value=\"s\"/> <label for=\"rad-speechs\">Speech</label> </div> </div> <div class=\"col-xs-6\"> <div style=\"padding-left:5px\"> <input class=\"rad-speech\" id=\"rad-twitter\" name=\"rad-speech\" type=\"radio\" value=\"t\"/> <label for=\"rad-twitter\">Reactions</label> </div> </div> </div> <div class=\"row all_content_text\"> <div class=\"col-xs-12 col-sm-8 col-md-8 col-lg-8\"> <div class=\"row group_text_map\" id=\"allcontent\"> <div class=\"col-xs-8 col-sm-9 col-md-10 col-lg-10\" id=\"speech-column\"> <div class=\"div_head_text_filter\"> </div> <div class=\"div_content_text_filter\"></div> </div> <div class=\"col-xs-4 col-sm-3 col-md-2 col-lg-2\" id=\"mini-speech-column\"> <div class=\"row\"> <div class=\"col-xs-12 col-sm-12 col-md-12 col-lg-12 none\"> <div class=\"div_content_year_2018\"> <a class=\"hidden-xs btn btn-default btn_div_content_year\" href=\"#\" role=\"button\">2018</a> </div> </div> <div class=\"col-xs-12 col-sm-12 col-md-12 col-lg-12\"> <div class=\"div_count_word_2018\"></div> </div> </div> <div class=\"div_content_text_2018\"></div> </div> </div> </div> </div> </div> <section class=\"credits-section\"> <div> <span class=\"credits-label\"> Source:</span> <span>Prime Ministerâs Office</span> </div> <div> <span class=\"credits-label\">Produced by:</span> <span itemprop=\"author\"> Jocelyn Tan,</span> <span itemprop=\"author\"> Alyssa Mungcal,</span> <span itemprop=\"author\"> Chen Danning,</span> <span itemprop=\"author\"> Thong Yong Jun,</span> <span itemprop=\"author\"> and Derek Wong</span> </div> </section> <section class=\"content-fb-comments\"> <div class=\"fb-comments\" data-colorscheme=\"light\" data-href=\"https://graphics.straitstimes.com/STI/STIMEDIA/Interactives/2018/08/ndr-speech-analysis-2018/index.html\" data-numposts=\"5\" data-width=\"100%\"></div> </section> </article> </main> <footer class=\"st-content-footer\"> <p class=\"st-footer\"> SPH Digital News / Copyright Â© 2018 Singapore Press Holdings Ltd. Co. Regn No. 198402868E. All rights reserved. </p> </footer> </div> </div> <div id=\"fb-root\"></div> <script src=\"js/components.js\"></script> <script src=\"js/app.js\"></script> <script>var _data={title:document.title.replace(\"&\",\"_\")}</script> <script src=\"./js/bootstrap.min.js\"></script> </body> </html> \n"
     ]
    }
   ],
   "source": [
    "sample = BeautifulSoup(speech.text, 'html.parser')\n",
    "print(sample)"
   ]
  },
  {
   "cell_type": "code",
   "execution_count": 148,
   "metadata": {},
   "outputs": [],
   "source": [
    "# kill all script and style elements\n",
    "for script in sample([\"script\", \"style\"]):\n",
    "    script.extract()    # rip it out"
   ]
  },
  {
   "cell_type": "code",
   "execution_count": 149,
   "metadata": {},
   "outputs": [],
   "source": [
    "# get text\n",
    "sample = sample.get_text()"
   ]
  },
  {
   "cell_type": "code",
   "execution_count": 150,
   "metadata": {},
   "outputs": [
    {
     "name": "stdout",
     "output_type": "stream",
     "text": [
      "    National Day Rally 2018: Explore PM Leeâs transcript | The Straits Times                                                            NDR CHATBOT   LIVE BLOG   THE SPEECH                      NDR CHATBOT      LIVE BLOG      THE SPEECH                  NDR2018     National Day Rally 2018: Explore PM Leeâs transcript    Prime Minister Lee Hsien Loong delivered the 2018 National Day Rally speech on Aug 19. Explore the transcript of his English speech. Search by category, most-used words or enter your own search terms.     PUBLISHED: AUG 21, 2018          Top  Category  Free Search                     SEARCH BY CATEGORY  SEARCH BY MOST-USED WORDS  FREE SEARCH                           Speech      Reactions                2018                Source: Prime Ministerâs Office   Produced by:  Jocelyn Tan,  Alyssa Mungcal,  Chen Danning,  Thong Yong Jun,  and Derek Wong          SPH Digital News / Copyright Â© 2018 Singapore Press Holdings Ltd. Co. Regn No. 198402868E. All rights reserved.            \n"
     ]
    }
   ],
   "source": [
    "def strip_html(text):\n",
    "    soup = BeautifulSoup(text, \"html.parser\")\n",
    "    return soup.get_text()\n",
    "\n",
    "def remove_between_square_brackets(text):\n",
    "    return re.sub('\\[[^]]*\\]', '', text)\n",
    "\n",
    "def denoise_text(text):\n",
    "    text = strip_html(text)\n",
    "    text = remove_between_square_brackets(text)\n",
    "    return text\n",
    "\n",
    "sample = denoise_text(sample)\n",
    "print(sample)"
   ]
  },
  {
   "cell_type": "code",
   "execution_count": 151,
   "metadata": {},
   "outputs": [
    {
     "name": "stdout",
     "output_type": "stream",
     "text": [
      "Requirement already satisfied: contractions in f:\\python\\anaconda\\lib\\site-packages (0.0.17)\n"
     ]
    }
   ],
   "source": [
    "!pip install contractions"
   ]
  },
  {
   "cell_type": "code",
   "execution_count": 152,
   "metadata": {},
   "outputs": [],
   "source": [
    "import contractions"
   ]
  },
  {
   "cell_type": "code",
   "execution_count": 153,
   "metadata": {},
   "outputs": [
    {
     "name": "stdout",
     "output_type": "stream",
     "text": [
      "    National Day Rally 2018: Explore PM Leeâs transcript | The Straits Times                                                            NDR CHATBOT   LIVE BLOG   THE SPEECH                      NDR CHATBOT      LIVE BLOG      THE SPEECH                  NDR2018     National Day Rally 2018: Explore PM Leeâs transcript    Prime Minister Lee Hsien Loong delivered the 2018 National Day Rally speech on Aug 19. Explore the transcript of his English speech. Search by category, most-used words or enter your own search terms.     PUBLISHED: AUG 21, 2018          Top  Category  Free Search                     SEARCH BY CATEGORY  SEARCH BY MOST-USED WORDS  FREE SEARCH                           Speech      Reactions                2018                Source: Prime Ministerâs Office   Produced by:  Jocelyn Tan,  Alyssa Mungcal,  Chen Danning,  Thong Yong Jun,  and Derek Wong          SPH Digital News / Copyright Â© 2018 Singapore Press Holdings Ltd. Co. Regn No. 198402868E. All rights reserved.            \n"
     ]
    }
   ],
   "source": [
    "def replace_contractions(text):\n",
    "\n",
    "    \"\"\"Replace contractions in string of text\"\"\"\n",
    "\n",
    "    return contractions.fix(text)\n",
    "\n",
    "\n",
    "\n",
    "sample = replace_contractions(sample)\n",
    "\n",
    "print(sample)"
   ]
  },
  {
   "cell_type": "code",
   "execution_count": 154,
   "metadata": {},
   "outputs": [
    {
     "name": "stdout",
     "output_type": "stream",
     "text": [
      "['National', 'Day', 'Rally', '2018', ':', 'Explore', 'PM', 'Leeâ\\x80\\x99s', 'transcript', '|', 'The', 'Straits', 'Times', 'NDR', 'CHATBOT', 'LIVE', 'BLOG', 'THE', 'SPEECH', 'NDR', 'CHATBOT', 'LIVE', 'BLOG', 'THE', 'SPEECH', 'NDR2018', 'National', 'Day', 'Rally', '2018', ':', 'Explore', 'PM', 'Leeâ\\x80\\x99s', 'transcript', 'Prime', 'Minister', 'Lee', 'Hsien', 'Loong', 'delivered', 'the', '2018', 'National', 'Day', 'Rally', 'speech', 'on', 'Aug', '19', '.', 'Explore', 'the', 'transcript', 'of', 'his', 'English', 'speech', '.', 'Search', 'by', 'category', ',', 'most-used', 'words', 'or', 'enter', 'your', 'own', 'search', 'terms', '.', 'PUBLISHED', ':', 'AUG', '21', ',', '2018', 'Top', 'Category', 'Free', 'Search', 'SEARCH', 'BY', 'CATEGORY', 'SEARCH', 'BY', 'MOST-USED', 'WORDS', 'FREE', 'SEARCH', 'Speech', 'Reactions', '2018', 'Source', ':', 'Prime', 'Ministerâ\\x80\\x99s', 'Office', 'Produced', 'by', ':', 'Jocelyn', 'Tan', ',', 'Alyssa', 'Mungcal', ',', 'Chen', 'Danning', ',', 'Thong', 'Yong', 'Jun', ',', 'and', 'Derek', 'Wong', 'SPH', 'Digital', 'News', '/', 'Copyright', 'Â©', '2018', 'Singapore', 'Press', 'Holdings', 'Ltd.', 'Co.', 'Regn', 'No', '.', '198402868E', '.', 'All', 'rights', 'reserved', '.']\n"
     ]
    }
   ],
   "source": [
    "#Tokenization\n",
    "words = nltk.word_tokenize(sample)\n",
    "print(words)"
   ]
  },
  {
   "cell_type": "code",
   "execution_count": 155,
   "metadata": {},
   "outputs": [],
   "source": [
    "#NORMALISING the data\n",
    "# Remove non-ASCII characters from list of tokenized words\n",
    "def remove_non_ascii(words):\n",
    "    new_words = []\n",
    "    for word in words:\n",
    "        new_word = unicodedata.normalize('NFKD', word).encode('ascii', 'ignore').decode('utf-8', 'ignore')\n",
    "        new_words.append(new_word)\n",
    "    return new_words"
   ]
  },
  {
   "cell_type": "code",
   "execution_count": 156,
   "metadata": {},
   "outputs": [],
   "source": [
    "#Convert all characters to lowercase from list of tokenized words\n",
    "def to_lowercase(words):\n",
    "    new_words = []\n",
    "    for word in words:\n",
    "        new_word = word.lower()\n",
    "        new_words.append(new_word)\n",
    "    return new_words"
   ]
  },
  {
   "cell_type": "code",
   "execution_count": 157,
   "metadata": {},
   "outputs": [],
   "source": [
    " #Remove punctuation from list of tokenized words\n",
    "def remove_punctuation(words):\n",
    "    new_words = []\n",
    "    for word in words:\n",
    "        new_word = re.sub(r'[^\\w\\s]', '', word)\n",
    "        if new_word != '':\n",
    "            new_words.append(new_word)\n",
    "        return new_words"
   ]
  },
  {
   "cell_type": "code",
   "execution_count": 158,
   "metadata": {},
   "outputs": [],
   "source": [
    "#Replace all interger occurrences in list of tokenized words with textual representation\n",
    "def replace_numbers(words):\n",
    "    p = inflect.engine()\n",
    "    new_words = []\n",
    "    for word in words:\n",
    "        if word.isdigit():\n",
    "            new_word = p.number_to_words(word)\n",
    "            new_words.append(new_word)\n",
    "        else:\n",
    "            new_words.append(word)\n",
    "        return new_words"
   ]
  },
  {
   "cell_type": "code",
   "execution_count": 159,
   "metadata": {},
   "outputs": [],
   "source": [
    "def remove_stopwords(words):\n",
    "\n",
    "    \"\"\"Remove stop words from list of tokenized words\"\"\"\n",
    "\n",
    "    new_words = []\n",
    "\n",
    "    for word in words:\n",
    "\n",
    "        if word not in stopwords.words('english'):\n",
    "\n",
    "            new_words.append(word)\n",
    "\n",
    "    return new_words"
   ]
  },
  {
   "cell_type": "code",
   "execution_count": 160,
   "metadata": {},
   "outputs": [],
   "source": [
    "# Stem words in list of tokenized words\n",
    "def stem_words(words):\n",
    "    stemmer = LancasterStemmer()\n",
    "    stems = []\n",
    "    for word in words:\n",
    "        stem = stemmer.stem(word)\n",
    "        stems.append(stem)\n",
    "    return stems"
   ]
  },
  {
   "cell_type": "code",
   "execution_count": 161,
   "metadata": {},
   "outputs": [],
   "source": [
    " # Lemmatize verbs in list of tokenized words\n",
    "def lemmatize_verbs(words):\n",
    "    lemmatizer = WordNetLemmatizer()\n",
    "    lemmas = []\n",
    "    for word in words:\n",
    "        lemma = lemmatizer.lemmatize(word, pos='v')\n",
    "        lemmas.append(lemma)\n",
    "    return lemmas"
   ]
  },
  {
   "cell_type": "code",
   "execution_count": 162,
   "metadata": {},
   "outputs": [],
   "source": [
    "def normalize(words):\n",
    "    words = remove_non_ascii(words)\n",
    "    words = to_lowercase(words)\n",
    "    words = remove_punctuation(words)\n",
    "    words = replace_numbers(words)\n",
    "    words = remove_stopwords(words)\n",
    "    return words"
   ]
  },
  {
   "cell_type": "code",
   "execution_count": 163,
   "metadata": {},
   "outputs": [],
   "source": [
    "import inflect"
   ]
  },
  {
   "cell_type": "code",
   "execution_count": 164,
   "metadata": {},
   "outputs": [
    {
     "name": "stdout",
     "output_type": "stream",
     "text": [
      "['national']\n"
     ]
    }
   ],
   "source": [
    "words = normalize(words)\n",
    "print(words)"
   ]
  },
  {
   "cell_type": "code",
   "execution_count": 165,
   "metadata": {},
   "outputs": [
    {
     "name": "stdout",
     "output_type": "stream",
     "text": [
      "Stemmed:\n",
      " ['nat']\n",
      "\n",
      "Lemmatized:\n",
      " ['national']\n"
     ]
    }
   ],
   "source": [
    "def stem_and_lemmatize(words):\n",
    "    stems = stem_words(words)\n",
    "    lemmas = lemmatize_verbs(words)\n",
    "    return stems, lemmas\n",
    "stems, lemmas = stem_and_lemmatize(words)\n",
    "print('Stemmed:\\n', stems)\n",
    "print('\\nLemmatized:\\n', lemmas)"
   ]
  },
  {
   "cell_type": "code",
   "execution_count": 166,
   "metadata": {},
   "outputs": [],
   "source": [
    "#import all required packages\n",
    "import numpy as np\n",
    "import matplotlib.pyplot as plt\n",
    "%matplotlib inline\n",
    "get_ipython().magic('matplotlib inline')\n",
    "import seaborn as sns"
   ]
  },
  {
   "cell_type": "code",
   "execution_count": 167,
   "metadata": {},
   "outputs": [],
   "source": [
    "#Import wordcloud\n",
    "from wordcloud import WordCloud, STOPWORDS"
   ]
  },
  {
   "cell_type": "code",
   "execution_count": 168,
   "metadata": {},
   "outputs": [],
   "source": [
    "#specify fonts, stopwords, background color and other options\n",
    "wordcloud = WordCloud(stopwords=STOPWORDS,background_color='white',relative_scaling=1.0).generate(sample)"
   ]
  },
  {
   "cell_type": "code",
   "execution_count": 169,
   "metadata": {},
   "outputs": [
    {
     "data": {
      "image/png": "[encoded data removed]",
      "text/plain": [
       "<matplotlib.figure.Figure at 0x1cbff4f5710>"
      ]
     },
     "metadata": {},
     "output_type": "display_data"
    }
   ],
   "source": [
    "plt.imshow(wordcloud)\n",
    "plt.axis('off')\n",
    "plt.show()"
   ]
  },
  {
   "cell_type": "code",
   "execution_count": 170,
   "metadata": {},
   "outputs": [],
   "source": [
    "def wordfreq (lst):\n",
    "        word_freq={}\n",
    "        for tok in words:\n",
    "            if tok.lower() in word_freq:\n",
    "                word_freq [tok.lower()]+=1\n",
    "        else:\n",
    "            word_freq [tok.lower()]=1\n",
    "            return word_freq"
   ]
  },
  {
   "cell_type": "code",
   "execution_count": 171,
   "metadata": {},
   "outputs": [],
   "source": [
    "#finding the word lengths in the text\n",
    "word_lengths = [len(w) for w in words]"
   ]
  },
  {
   "cell_type": "code",
   "execution_count": 172,
   "metadata": {},
   "outputs": [
    {
     "data": {
      "image/png": "[encoded data removed]",
      "text/plain": [
       "<matplotlib.figure.Figure at 0x1cbff80f9e8>"
      ]
     },
     "metadata": {},
     "output_type": "display_data"
    }
   ],
   "source": [
    "plt.hist(word_lengths)\n",
    "plt.show()"
   ]
  },
  {
   "cell_type": "code",
   "execution_count": 173,
   "metadata": {},
   "outputs": [],
   "source": [
    "from nltk.tokenize import word_tokenize"
   ]
  },
  {
   "cell_type": "code",
   "execution_count": 174,
   "metadata": {},
   "outputs": [],
   "source": [
    "words = word_tokenize(sample)"
   ]
  },
  {
   "cell_type": "code",
   "execution_count": 175,
   "metadata": {},
   "outputs": [],
   "source": [
    "#Simple text preprocessing - to lower case and removing all non alphabets\n",
    "from nltk.corpus import stopwords\n",
    "tokens = [w for w in word_tokenize(sample.lower()) if w.isalpha()]"
   ]
  },
  {
   "cell_type": "code",
   "execution_count": 176,
   "metadata": {},
   "outputs": [
    {
     "name": "stdout",
     "output_type": "stream",
     "text": [
      "['national', 'day', 'rally', 'explore', 'pm', 'transcript', 'straits', 'times', 'ndr', 'chatbot', 'live', 'blog', 'speech', 'ndr', 'chatbot', 'live', 'blog', 'speech', 'national', 'day', 'rally', 'explore', 'pm', 'transcript', 'prime', 'minister', 'lee', 'hsien', 'loong', 'delivered', 'national', 'day', 'rally', 'speech', 'aug', 'explore', 'transcript', 'english', 'speech', 'search', 'category', 'words', 'enter', 'search', 'terms', 'published', 'aug', 'top', 'category', 'free', 'search', 'search', 'category', 'search', 'words', 'free', 'search', 'speech', 'reactions', 'source', 'prime', 'office', 'produced', 'jocelyn', 'tan', 'alyssa', 'mungcal', 'chen', 'danning', 'thong', 'yong', 'jun', 'derek', 'wong', 'sph', 'digital', 'news', 'copyright', 'singapore', 'press', 'holdings', 'regn', 'rights', 'reserved']\n"
     ]
    }
   ],
   "source": [
    "#To remove stopwords from stop words list which is built in nltk library.\n",
    "no_stops = [ t for t in tokens if t not in stopwords.words('english')]\n",
    "print(no_stops)"
   ]
  },
  {
   "cell_type": "code",
   "execution_count": 177,
   "metadata": {},
   "outputs": [],
   "source": [
    "def wordfreq (lst):\n",
    "        word_freq={}\n",
    "        for tok in no_stops:\n",
    "            if tok.lower() in word_freq:\n",
    "                word_freq [tok.lower()]+=1\n",
    "        else:\n",
    "            word_freq [tok.lower()]=1\n",
    "            return word_freq"
   ]
  },
  {
   "cell_type": "code",
   "execution_count": 178,
   "metadata": {},
   "outputs": [],
   "source": [
    "new_tokens = wordfreq(tokens)"
   ]
  },
  {
   "cell_type": "code",
   "execution_count": 179,
   "metadata": {},
   "outputs": [
    {
     "name": "stdout",
     "output_type": "stream",
     "text": [
      "[('reserved', 1)]\n"
     ]
    }
   ],
   "source": [
    "import operator\n",
    "sorted_d = sorted(new_tokens.items(), key=operator.itemgetter(1),reverse=True)\n",
    "#print('Dictionary in descending order by value : ',sorted_d)\n",
    "print(sorted_d[:1000])"
   ]
  },
  {
   "cell_type": "code",
   "execution_count": 181,
   "metadata": {},
   "outputs": [
    {
     "name": "stdout",
     "output_type": "stream",
     "text": [
      "<FreqDist with 54 samples and 84 outcomes>\n",
      "[('search', 6), ('speech', 5), ('national', 3), ('day', 3), ('rally', 3), ('explore', 3), ('transcript', 3), ('category', 3), ('pm', 2), ('ndr', 2), ('chatbot', 2), ('live', 2), ('blog', 2), ('prime', 2), ('aug', 2), ('words', 2), ('free', 2), ('straits', 1), ('times', 1), ('minister', 1), ('lee', 1), ('hsien', 1), ('loong', 1), ('delivered', 1), ('english', 1)]\n"
     ]
    },
    {
     "data": {
      "image/png": "[encoded data removed]",
      "text/plain": [
       "<matplotlib.figure.Figure at 0x1cbff8db550>"
      ]
     },
     "metadata": {},
     "output_type": "display_data"
    }
   ],
   "source": [
    "import nltk\n",
    "Freq_dist_nltk=nltk.FreqDist(no_stops)\n",
    "print(Freq_dist_nltk)\n",
    "sorted_d = sorted(Freq_dist_nltk.items(), key=operator.itemgetter(1),reverse=True)\n",
    "print(sorted_d[:25])\n",
    "Freq_dist_nltk.plot(25, cumulative=False)"
   ]
  },
  {
   "cell_type": "code",
   "execution_count": null,
   "metadata": {},
   "outputs": [],
   "source": []
  },
  {
   "cell_type": "code",
   "execution_count": null,
   "metadata": {},
   "outputs": [],
   "source": []
  }
 ],
 "metadata": {
  "kernelspec": {
   "display_name": "Python 3",
   "language": "python",
   "name": "python3"
  },
  "language_info": {
   "codemirror_mode": {
    "name": "ipython",
    "version": 3
   },
   "file_extension": ".py",
   "mimetype": "text/x-python",
   "name": "python",
   "nbconvert_exporter": "python",
   "pygments_lexer": "ipython3",
   "version": "3.6.4"
  }
 },
 "nbformat": 4,
 "nbformat_minor": 2
}
